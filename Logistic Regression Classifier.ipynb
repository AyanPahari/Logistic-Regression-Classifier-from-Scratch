{
 "cells": [
  {
   "cell_type": "markdown",
   "id": "f543b7de",
   "metadata": {},
   "source": [
    "# <center>Logistic Regression Classifier<center>"
   ]
  },
  {
   "cell_type": "markdown",
   "id": "7bbf1ea7",
   "metadata": {},
   "source": [
    "### Importing the necessary libraries"
   ]
  },
  {
   "cell_type": "code",
   "execution_count": 1,
   "id": "1a6d97cf",
   "metadata": {},
   "outputs": [],
   "source": [
    "import numpy as np\n",
    "import pandas as pd\n",
    "import matplotlib.pyplot as plt"
   ]
  },
  {
   "cell_type": "markdown",
   "id": "dd7d5631",
   "metadata": {},
   "source": [
    "### Loading the training and testing data"
   ]
  },
  {
   "cell_type": "code",
   "execution_count": 2,
   "id": "bbd281a0",
   "metadata": {},
   "outputs": [],
   "source": [
    "X_train = np.array([[0.346,0.780],[0.303,0.439],[0.358,0.729],[0.602,0.863],[0.790,0.753],[0.611,0.965]]).T\n",
    "y_train = np.array([0,0,0,1,1,1]).reshape(1,X_train.shape[1])\n",
    "X_test = np.array([[0.959,0.382],[0.750,0.306],[0.395,0.760],[0.823,0.764],[0.761,0.874],[0.844,0.435]]).T\n",
    "y_test = np.array([0,0,0,1,1,1]).reshape(1,X_test.shape[1])"
   ]
  },
  {
   "cell_type": "markdown",
   "id": "5114ca3d",
   "metadata": {},
   "source": [
    "### Defining the Sigmoid function"
   ]
  },
  {
   "cell_type": "code",
   "execution_count": 3,
   "id": "bf33e3eb",
   "metadata": {},
   "outputs": [],
   "source": [
    "def sigmoid(x):\n",
    "    return 1/(1+np.exp(-x))"
   ]
  },
  {
   "cell_type": "markdown",
   "id": "d5b43769",
   "metadata": {},
   "source": [
    "### 5. a) Logistic Regression Classifier Code"
   ]
  },
  {
   "cell_type": "code",
   "execution_count": 4,
   "id": "4280c72d",
   "metadata": {},
   "outputs": [],
   "source": [
    "def logistic_regression(X_train, y_train, alpha , iteration):\n",
    "    \n",
    "    m = X_train.shape[1] #number of rows\n",
    "    n = X_train.shape[0] #number of columns\n",
    "    \n",
    "    W = np.array([[1.5],[0.5]])\n",
    "    B = -1\n",
    "    \n",
    "    cost_values = []\n",
    "    \n",
    "    for i in range(iteration):\n",
    "        \n",
    "        temp = np.dot(W.T, X_train) + B\n",
    "        y_cap = sigmoid(temp)\n",
    "        \n",
    "        cost = -(1/m)*np.sum( y_train*np.log(y_cap) + (1-y_train)*np.log(1-y_cap))\n",
    "        \n",
    "        dW = (1/m)*np.dot(y_cap-y_train, X_train.T)\n",
    "        dB = (1/m)*np.sum(y_cap - y_train)\n",
    "        \n",
    "        W = W - alpha*dW.T\n",
    "        B = B - alpha*dB\n",
    "        \n",
    "        cost_values.append(cost)\n",
    "        \n",
    "        if(i%(iteration/10) == 0):\n",
    "            print(\"Cost after {}th iteration is {}\".format(i,cost))\n",
    "        \n",
    "    return W, B, cost_values\n",
    "    "
   ]
  },
  {
   "cell_type": "markdown",
   "id": "e83ce262",
   "metadata": {},
   "source": [
    "### 5.b) i)"
   ]
  },
  {
   "cell_type": "markdown",
   "id": "9b8178b4",
   "metadata": {},
   "source": [
    "___\n",
    "\n",
    "<img src='image.jpeg'/>\n",
    "___"
   ]
  },
  {
   "cell_type": "markdown",
   "id": "ea631557",
   "metadata": {},
   "source": [
    "### 5.b) ii)"
   ]
  },
  {
   "cell_type": "code",
   "execution_count": 5,
   "id": "c86a7eed",
   "metadata": {},
   "outputs": [
    {
     "name": "stdout",
     "output_type": "stream",
     "text": [
      "Cost after 0th iteration is 0.5569500797547651\n",
      "Updated theta_0 value -1.0031662597725644\n",
      "Updated theta_1 value [1.50535086]\n",
      "Updated theta_2 value [0.50196867]\n"
     ]
    }
   ],
   "source": [
    "W, B, cost_values = logistic_regression(X_train, y_train, alpha = 0.1, iteration = 1)\n",
    "print(\"Updated theta_0 value {}\".format(B))\n",
    "print(\"Updated theta_1 value {}\".format(W[0]))\n",
    "print(\"Updated theta_2 value {}\".format(W[1]))"
   ]
  },
  {
   "cell_type": "markdown",
   "id": "588e4559",
   "metadata": {},
   "source": [
    "### Updated theta_0 value : -1.0031662597725644\n",
    "### Updated theta_1 value : 1.50535086\n",
    "### Updated theta_2 value : 0.50196867"
   ]
  },
  {
   "cell_type": "markdown",
   "id": "243cc33f",
   "metadata": {},
   "source": [
    "### 5.b) iii)"
   ]
  },
  {
   "cell_type": "code",
   "execution_count": 6,
   "id": "456f4e96",
   "metadata": {},
   "outputs": [
    {
     "name": "stdout",
     "output_type": "stream",
     "text": [
      "Cost after 0th iteration is 0.5569500797547651\n",
      "Cost after 10000th iteration is 0.062426112132501224\n",
      "Cost after 20000th iteration is 0.03354618281751147\n",
      "Cost after 30000th iteration is 0.023002502083890188\n",
      "Cost after 40000th iteration is 0.017521224118343164\n",
      "Cost after 50000th iteration is 0.014157704706260283\n",
      "Cost after 60000th iteration is 0.011881735694500652\n",
      "Cost after 70000th iteration is 0.010238564607786882\n",
      "Cost after 80000th iteration is 0.008996144767935439\n",
      "Cost after 90000th iteration is 0.008023610199246857\n"
     ]
    }
   ],
   "source": [
    "# setting the number of iterations to 100000\n",
    "W, B, cost_values = logistic_regression(X_train, y_train, alpha = 0.1, iteration = 100000)"
   ]
  },
  {
   "cell_type": "code",
   "execution_count": 7,
   "id": "ca4b5852",
   "metadata": {},
   "outputs": [],
   "source": [
    "def get_accuracy(X_test, y_test, W, B):\n",
    "    \n",
    "    temp = np.dot(W.T, X_test) + B\n",
    "    y_cap = sigmoid(temp)\n",
    "    \n",
    "    y_cap = y_cap >= 0.5\n",
    "    y_cap = np.array(y_cap, dtype = 'int')\n",
    "    \n",
    "    accuracy = (1 - np.sum(abs(y_cap - y_test))/y_test.shape[1])*100\n",
    "    \n",
    "    print(\"Accuracy of the model is {} %\".format(round(accuracy,2)))\n",
    "    print(\"Prediction: {} \".format(y_cap))\n",
    "    return y_cap"
   ]
  },
  {
   "cell_type": "code",
   "execution_count": 8,
   "id": "a8249d0f",
   "metadata": {},
   "outputs": [
    {
     "data": {
      "image/png": "[encoded data removed]",
      "text/plain": [
       "<Figure size 432x288 with 1 Axes>"
      ]
     },
     "metadata": {
      "needs_background": "light"
     },
     "output_type": "display_data"
    }
   ],
   "source": [
    "plt.plot(range(100000), cost_values)\n",
    "plt.show()"
   ]
  },
  {
   "cell_type": "code",
   "execution_count": 9,
   "id": "3a35087f",
   "metadata": {},
   "outputs": [
    {
     "name": "stdout",
     "output_type": "stream",
     "text": [
      "Accuracy of the model is 66.67 %\n",
      "Prediction: [[1 1 0 1 1 1]] \n"
     ]
    }
   ],
   "source": [
    "y_cap = get_accuracy(X_test, y_test, W, B)"
   ]
  },
  {
   "cell_type": "markdown",
   "id": "24ee3450",
   "metadata": {},
   "source": [
    "### Accuracy of the model is 66.67 %\n",
    "### Prediction: [1 1 0 1 1 1]\n"
   ]
  },
  {
   "cell_type": "code",
   "execution_count": 10,
   "id": "c23da009",
   "metadata": {},
   "outputs": [
    {
     "name": "stdout",
     "output_type": "stream",
     "text": [
      "Precision of the model for class 0 : 1.0\n",
      "Recall of the model for class 0 : 0.3333333333333333\n",
      "\n",
      "\n",
      "Precision of the model for class 1 : 0.6\n",
      "Recall of the model for class 1 : 1.0\n"
     ]
    }
   ],
   "source": [
    "def get_TP_TN_FP_FN_class1(y_test,y_cap):\n",
    "    \n",
    "    TP = np.sum((y_test == 1) & (y_cap == 1))\n",
    "    TN = np.sum((y_test == 0) & (y_cap == 0))\n",
    "    FP = np.sum((y_test == 0) & (y_cap == 1))\n",
    "    FN = np.sum((y_test == 1) & (y_cap == 0))\n",
    "    \n",
    "    return TP, TN, FP, FN\n",
    "\n",
    "def get_TP_TN_FP_FN_class0(y_test,y_cap):\n",
    "    \n",
    "    TP = np.sum((y_test == 0) & (y_cap == 0))\n",
    "    TN = np.sum((y_test == 1) & (y_cap == 1))\n",
    "    FP = np.sum((y_test == 1) & (y_cap == 0))\n",
    "    FN = np.sum((y_test == 0) & (y_cap == 1))\n",
    "    \n",
    "    return TP, TN, FP, FN\n",
    "\n",
    "def get_precision(TP,FP):\n",
    "    return TP / float( TP + FP) \n",
    "\n",
    "def get_recall(TP, FN):\n",
    "    return TP / float( TP + FN) \n",
    "\n",
    "TP, TN, FP, FN = get_TP_TN_FP_FN_class0(y_test,y_cap)\n",
    "\n",
    "print('Precision of the model for class 0 : {}'.format(get_precision(TP, FP)))\n",
    "print('Recall of the model for class 0 : {}'.format(get_recall(TP, FN)))\n",
    "\n",
    "TP, TN, FP, FN = get_TP_TN_FP_FN_class1(y_test,y_cap)\n",
    "print('\\n')\n",
    "\n",
    "print('Precision of the model for class 1 : {}'.format(get_precision(TP, FP)))\n",
    "print('Recall of the model for class 1 : {}'.format(get_recall(TP, FN)))"
   ]
  },
  {
   "cell_type": "markdown",
   "id": "9a4e988d",
   "metadata": {},
   "source": [
    "### Precision of the model for class 0 : 1.00\n",
    "### Recall of the model for class 0 : 0.33\n",
    "\n",
    "\n",
    "### Precision of the model for class 1 : 0.60\n",
    "### Recall of the model for class 1 : 1.00"
   ]
  },
  {
   "cell_type": "markdown",
   "id": "8b356ab5",
   "metadata": {},
   "source": [
    "### We can confirm our results using sklearn's classification report function"
   ]
  },
  {
   "cell_type": "code",
   "execution_count": 11,
   "id": "5554d55d",
   "metadata": {},
   "outputs": [
    {
     "name": "stdout",
     "output_type": "stream",
     "text": [
      "              precision    recall  f1-score   support\n",
      "\n",
      "           0       1.00      0.33      0.50         3\n",
      "           1       0.60      1.00      0.75         3\n",
      "\n",
      "    accuracy                           0.67         6\n",
      "   macro avg       0.80      0.67      0.62         6\n",
      "weighted avg       0.80      0.67      0.62         6\n",
      "\n"
     ]
    }
   ],
   "source": [
    "from sklearn.metrics import classification_report,accuracy_score\n",
    "\n",
    "y_test = y_test.reshape((6,))\n",
    "y_cap = y_cap.reshape((6,))\n",
    "\n",
    "print(classification_report(y_test,y_cap))"
   ]
  }
 ],
 "metadata": {
  "kernelspec": {
   "display_name": "Python 3",
   "language": "python",
   "name": "python3"
  },
  "language_info": {
   "codemirror_mode": {
    "name": "ipython",
    "version": 3
   },
   "file_extension": ".py",
   "mimetype": "text/x-python",
   "name": "python",
   "nbconvert_exporter": "python",
   "pygments_lexer": "ipython3",
   "version": "3.8.8"
  }
 },
 "nbformat": 4,
 "nbformat_minor": 5
}
